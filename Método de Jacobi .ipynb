{
 "cells": [
  {
   "cell_type": "markdown",
   "metadata": {},
   "source": [
    "### MAURO NOOBLATH   17/10/2020"
   ]
  },
  {
   "cell_type": "markdown",
   "metadata": {},
   "source": [
    "### Método de Jacobi"
   ]
  },
  {
   "cell_type": "markdown",
   "metadata": {},
   "source": [
    "__O método de Jacobi utiliza umaa sucessão de transformações ortogonais para produzir uma sequência de matrizes que se aproxima de uma matriz diagonal limite. Este método é utilizado para encontrar Autovalores e Autovetores dessas matrizes. Temos transformações similares ao que é feito abaixo__"
   ]
  },
  {
   "cell_type": "markdown",
   "metadata": {},
   "source": [
    "<center>\n",
    "    A<sub>k+1</sub> = J<sub>k</sub><sup>t</sup>A<sub>k</sub>J<sub>k</sub>"
   ]
  },
  {
   "cell_type": "markdown",
   "metadata": {},
   "source": [
    "_Dada uma matriz A simétrica, ou seja A<sup>T</sup>=A onde A<sub>T</sub> é a transposta da Matriz A, faremos uma sequência de rotações:_\n",
    "<center> \n",
    "    AJ<sub>1</sub> = A; A<sub>2</sub> = J<sub>1</sub><sup>t</sup>A<sub>1</sub>J<sub>1</sub>; ... ; A<sub>n+1</sub> = J<sub>n</sub><sup>t</sup>A<sub>n</sub>J<sub>n</sub>; "
   ]
  },
  {
   "cell_type": "markdown",
   "metadata": {},
   "source": [
    "_Veja que J é uma matriz de rotação.Dada uma rotação (p,q), temos as seguintes definições para J:_\n",
    "<center>\n",
    "    \n",
    "j<sub>pp</sub> = j<sub>qq</sub> = cos($\\phi$)\n",
    "    \n",
    "j<sub>pq</sub> = -j<sub>qp</sub> = sen($\\phi$)\n",
    "    \n",
    "j<sub>ii</sub> = 1, \n",
    "    \n",
    "j<sub>ij</sub> = 00, no resto \n",
    "    \n",
    "</center>\n"
   ]
  },
  {
   "cell_type": "markdown",
   "metadata": {},
   "source": [
    "_Um exemplo de uma matriz de ordem 3 é usado abaixo para ilustrar as definições acima, suponhamos que p seja igual a 2 e q igual a 3._"
   ]
  },
  {
   "cell_type": "markdown",
   "metadata": {},
   "source": [
    "<center>\n",
    "   $$\n",
    "U= \\left[\n",
    "\\begin{array}{ccc}\n",
    "1 & 0 & 0  \\\\\n",
    "0 & cos(\\phi) & sin(\\phi)\\\\\n",
    "0 & -sin(\\phi) & cos(\\phi)\\end{array}\n",
    "\\right]\n",
    "$$"
   ]
  },
  {
   "cell_type": "markdown",
   "metadata": {},
   "source": [
    "__Exemplificando o método implementado abaixo vamos extrair os autovalores de uma matriz 2x2__ \n",
    "\n",
    "\\\n",
    "<center>\n",
    "   $$\n",
    "A= \\left[\n",
    "\\begin{array}{ccc}\n",
    "7 & 2 \\\\\n",
    "2 & 7 \\end{array}\n",
    "\\right]\n",
    "$$\n",
    "    \n"
   ]
  },
  {
   "cell_type": "markdown",
   "metadata": {},
   "source": [
    "__Temos uma matriz 2x2. Observe claramente que ela é uma matriz simétrica, ou seja $A = A^t$, portanto podemos aplicar o método de Jacobi.__"
   ]
  },
  {
   "cell_type": "markdown",
   "metadata": {},
   "source": [
    "__Temos algumas equações que serão utilizadas durante a iteração que são dadas abaixo__"
   ]
  },
  {
   "cell_type": "markdown",
   "metadata": {},
   "source": [
    "$$\\phi = \\frac{a_{qq} - a_{pp}}{2a_{pq}}$$\n",
    "$$t = \\frac{1}{\\phi + sinal(\\phi) \\sqrt{\\phi^2 +1}}  para  \\phi \\neq 0$$  \n",
    "$$t = 1 para \\phi = 0$$\n",
    "\n",
    "$$\\cos(\\phi) = \\frac{1}{\\sqrt{1+t^2}}$$\n",
    "$$\\sin(\\phi) = \\frac{t}{\\sqrt{1+t^2}}$$\n"
   ]
  },
  {
   "cell_type": "markdown",
   "metadata": {},
   "source": [
    "**Considere os elementos fora da diagonal principal, veja que o maior elemento fora da diagonal principal é o a<sub>12</sub> portanto veja que p = 1 e q = 2**"
   ]
  },
  {
   "cell_type": "markdown",
   "metadata": {},
   "source": [
    "_O elemento a<sub>qq</sub>, a<sub>pp</sub> e a<sub>pq</sub> é o elemento a<sub>22</sub>, a<sub>11</sub> e a<sub>12</sub> respectivamente._ \n",
    "\\\n",
    "\\\n",
    "_Logo a<sub>22</sub> = 7, a<sub>11</sub> = 7 e a<sub>12</sub> = 2 portanto calculando $\\phi$  temos que: $$\\phi = \\frac{7 - 7}{2*2} = 0$$_\n",
    "\\\n",
    "\\\n",
    "_Como $\\phi = 0  \\to  t = 1$_\n",
    "\\\n",
    "_Logo cos(phi) que vamos chamar de c vai ser:_ $$c = \\frac{1}{\\sqrt{1+1}} \\to c = \\frac{2}{\\sqrt{2}} = 0.7071$$\n",
    "\\\n",
    "$$s = \\frac{1}{\\sqrt{1+1}} \\to s = \\frac{2}{\\sqrt{2}} = 0.7071$$\n",
    "\\\n",
    "_Vamos agora descobri a nossa matriz de rotação:_\n",
    " \\\n",
    "<center>\n",
    "   $$\n",
    "U= \\left[\n",
    "\\begin{array}{ccc}\n",
    "u_{11} & u_{12} \\\\\n",
    "u_{21} & u_{22} \\end{array}\n",
    "\\right]\n",
    "$$\n",
    "Como p = 1 e q = 2 e considerando as restrições discutidas sobre matriz de rotação acima, $$u_{pp} \\to u_{11} \\to \\cos(\\phi)$$\n",
    "    $$u_{qq} \\to u_{22} \\to \\cos(\\phi)$$ $$u_{pq} = -u_{qp} \\to u_{12} = \\sin(\\phi)    u_{21} = -\\sin(\\phi) $$\n",
    "    \n",
    "\\\n",
    "    <center>\n",
    "   $$\n",
    "U= \\left[\n",
    "\\begin{array}{ccc}\n",
    "\\cos(\\phi) & \\sin(\\phi) \\\\\n",
    "-\\sin(\\phi) & \\cos(\\phi) \\end{array}\n",
    "\\right]\n",
    "$$\n",
    "\\\n",
    "\\\n",
    "_Observe que:_ \n",
    "        $\\cos(\\phi) = c = 0.7071$ e $\\sin(\\phi) = s = 0.7071 $, logo a matriz de rotação é:\n",
    "\n",
    "$$\n",
    "U= \\left[\n",
    "\\begin{array}{ccc}\n",
    "0.7071 & 0.7071 \\\\\n",
    "-0.7071 & 0.7071 \\end{array}\n",
    "\\right]\n",
    "$$\n",
    "\\\n",
    "__Vamos aplicar a seguinte relação agora: $A_1 =  U^tAU $. A tendência é que sempre quando calculamos $U^tAU$ os elementos da diagonal principal de A tendem aos autovalores da matriz A inicial e os elementos fora da diagonal tendem a ser 0. Como é um processo iterativo a tendência é chegarmos nestes autovalores. Como a matriz A que estamos analisando é simples, vamos chegar agora nesses autovalores, todavia matrizes de ordens maiores o processo fica mais demorado e assim precisamos da ajuda de um algoritmo para executar essas iterações.__ \n",
    "        \n",
    "__Observe que:__$$\n",
    "U^t= \\left[\n",
    "\\begin{array}{ccc}\n",
    "0.7071 & -0.7071 \\\\\n",
    "0.7071 & 0.7071 \\end{array}\n",
    "\\right]\n",
    "$$\n",
    "\n",
    "__Então__ $A_1 = U^tAU\\to$ \n",
    "\n",
    "$\n",
    "A_1= \\left[\n",
    "\\begin{array}{ccc}\n",
    "4.9999041 & 0 \\\\\n",
    "0 & 8.99982738 \\end{array}\n",
    "\\right]\n",
    "$\n",
    " \n",
    "\\\n",
    "__Observe que essa matriz $A_1$ é uma matriz diagonal com autovalores $\\lambda_1 = 4.9999$ e $\\lambda_2 = 8.9998$__\n",
    "        \n",
    "\\\n",
    "__Abaixo, implementamos o método tal qual o usuário possa entrar com qualquer matriz e assim extrair os seus autovaloes.__\n",
    "    \n",
    "\n"
   ]
  },
  {
   "cell_type": "code",
   "execution_count": 4,
   "metadata": {},
   "outputs": [],
   "source": [
    "from math import*\n",
    "\n",
    "import numpy as np\n",
    "\n",
    "import scipy\n",
    "import matplotlib.pyplot as plt\n",
    "%matplotlib inline"
   ]
  },
  {
   "cell_type": "markdown",
   "metadata": {},
   "source": [
    "__Abaixo há a implementação de duas funções, a função 'matriz_rotacao' gera a matriz U que foi discutida acima e a função 'gerador_matriz' que gera a matriz simétrica que queremos extrair os autovalores.__ \n",
    "\\\n",
    "\\\n",
    "_Vamos testar para a matriz 3x3 abaixo:_\n",
    "\\\n",
    "   $$\n",
    "x= \\left[\n",
    "\\begin{array}{ccc}\n",
    "4 & 2 & 0 \\\\\n",
    "2 & 5 & 3 \\\\\n",
    "0 & 3 & 6\\end{array}\n",
    "\\right]\n",
    "$$"
   ]
  },
  {
   "cell_type": "code",
   "execution_count": 7,
   "metadata": {},
   "outputs": [
    {
     "name": "stdout",
     "output_type": "stream",
     "text": [
      "Digite a ordem da matriz: 3\n",
      "Digite o elemento [0,0]0\n",
      "[[0. 0. 0.]\n",
      " [0. 0. 0.]\n",
      " [0. 0. 0.]]\n",
      "Digite o elemento [0,1]-1\n",
      "[[ 0. -1.  0.]\n",
      " [ 0.  0.  0.]\n",
      " [ 0.  0.  0.]]\n",
      "Digite o elemento [0,2]-1\n",
      "[[ 0. -1. -1.]\n",
      " [ 0.  0.  0.]\n",
      " [ 0.  0.  0.]]\n",
      "Digite o elemento [1,0]-1\n",
      "[[ 0. -1. -1.]\n",
      " [-1.  0.  0.]\n",
      " [ 0.  0.  0.]]\n",
      "Digite o elemento [1,1]0\n",
      "[[ 0. -1. -1.]\n",
      " [-1.  0.  0.]\n",
      " [ 0.  0.  0.]]\n",
      "Digite o elemento [1,2]-1\n",
      "[[ 0. -1. -1.]\n",
      " [-1.  0. -1.]\n",
      " [ 0.  0.  0.]]\n",
      "Digite o elemento [2,0]-1\n",
      "[[ 0. -1. -1.]\n",
      " [-1.  0. -1.]\n",
      " [-1.  0.  0.]]\n",
      "Digite o elemento [2,1]-1\n",
      "[[ 0. -1. -1.]\n",
      " [-1.  0. -1.]\n",
      " [-1. -1.  0.]]\n",
      "Digite o elemento [2,2]0\n",
      "[[ 0. -1. -1.]\n",
      " [-1.  0. -1.]\n",
      " [-1. -1.  0.]]\n",
      "Autovalor[0] = 0.0000\n",
      "Autovalor[1] = 0.0000\n",
      "Autovalor[2] = 0.0000\n"
     ]
    }
   ],
   "source": [
    "def matriz_rotacao(n,p,q):\n",
    "    u = np.eye(n)\n",
    "    for i in range(len(u)):\n",
    "        for j in range(len(u)):\n",
    "            if i==p and j==q:\n",
    "                u[p,q] = s    \n",
    "                u[q,p] = -1*s\n",
    "            elif i==j==p or i==j==q:\n",
    "                u[p,p] = c\n",
    "                u[q,q] = c\n",
    "                \n",
    "                \n",
    "    return u  \n",
    "def gerador_matriz(n):\n",
    "    A= np.eye(n)\n",
    "    A = np.matrix(A)\n",
    "    for i in range(len(A)):\n",
    "        for j in range(len(A)):\n",
    "            if(i==j):\n",
    "                A[i,j] = 0\n",
    "    for i in range(len(A)):\n",
    "        for j in range(len(A)):\n",
    "            A[i,j] = input('Digite o elemento [%d,%d]' %(i,j))\n",
    "            print(A)\n",
    "    return A\n",
    "\n",
    "n = int(input('Digite a ordem da matriz: '))\n",
    "x = gerador_matriz(n)\n",
    "autovalores = []\n",
    "simetricax = []\n",
    "simetricaxtransp = []\n",
    "\n",
    "for i in range(len(x)):\n",
    "    for j in range(len(x)):\n",
    "        simetricax.append(x[i,j])\n",
    "        simetricaxtransp.append(x.transpose()[i,j])\n",
    "        \n",
    "if(simetricax == simetricaxtransp):\n",
    "    for i in range(0,1000000):\n",
    "\n",
    "\n",
    "            lista = []\n",
    "\n",
    "            for i in range(len(x)):\n",
    "                for j in range(len(x)):\n",
    "                    if(i!=j):\n",
    "                        lista.append(x[i,j])\n",
    "            \n",
    "            for i in range(len(lista)):\n",
    "                if(lista[i]<0):\n",
    "                    lista[i] = -1*lista[i]\n",
    "                else:\n",
    "                    lista[i] = lista[i]\n",
    "                \n",
    "            \n",
    "            maxi = max(lista)\n",
    "            \n",
    "            for i in range(len(x)):\n",
    "                for j in range(len(x)):\n",
    "                    if x[i,j] == maxi:\n",
    "                        p = i\n",
    "                        q = j\n",
    "\n",
    "                        if p> q:\n",
    "                            var = q\n",
    "                            q = p\n",
    "                            p = var\n",
    "            \n",
    "            \n",
    "\n",
    "            l = 2*x[p,q]\n",
    "            if(l!=0): #Critério de parada\n",
    "                phi = (x[q,q] - x[p,p])/l\n",
    "\n",
    "\n",
    "                if phi != 0:\n",
    "                    if abs(phi+sqrt(phi**2+1))>abs(phi-sqrt(phi**2+1)):\n",
    "                        den = phi+sqrt(phi**2+1)\n",
    "                    else:\n",
    "                        den = phi-sqrt(phi**2+1)\n",
    "                    t = 1/den\n",
    "                else:\n",
    "                    t = 1\n",
    "\n",
    "                c = 1/(sqrt(1+t**2))\n",
    "\n",
    "                s = t/(sqrt(1+t**2))\n",
    "\n",
    "                U = matriz_rotacao(n,p,q)\n",
    "\n",
    "\n",
    "\n",
    "                x = U.transpose()*x*U\n",
    "\n",
    "                for i in range(len(x)):\n",
    "                    for j in range(len(x)):\n",
    "                        x[i,j] = round(x[i,j],3)\n",
    "\n",
    "\n",
    "            else:\n",
    "                break\n",
    "    i=0\n",
    "    for j in range(len(x)):\n",
    "        autovalores.append(x.diagonal()[i,j])\n",
    "        print('Autovalor[%d] = %.4f' %(j,autovalores[j]))\n",
    "else:\n",
    "    print('As matrizes devem ser simétricas!')\n",
    "        \n",
    "\n",
    " \n",
    "\n",
    "\n",
    "\n",
    "\n",
    "\n"
   ]
  },
  {
   "cell_type": "code",
   "execution_count": 9,
   "metadata": {},
   "outputs": [
    {
     "data": {
      "text/plain": [
       "matrix([[ 0., -1., -1.],\n",
       "        [-1.,  0., -1.],\n",
       "        [-1., -1.,  0.]])"
      ]
     },
     "execution_count": 9,
     "metadata": {},
     "output_type": "execute_result"
    }
   ],
   "source": [
    "x"
   ]
  },
  {
   "cell_type": "markdown",
   "metadata": {},
   "source": [
    "__Observe a matriz diagonal que o algoritmo conseguiu chegar, abaixo:__"
   ]
  },
  {
   "cell_type": "code",
   "execution_count": 41,
   "metadata": {},
   "outputs": [
    {
     "data": {
      "text/plain": [
       "matrix([[ 4.629,  0.184,  0.   ],\n",
       "        [ 0.184,  1.52 , -0.653],\n",
       "        [ 0.   , -0.653,  8.851]])"
      ]
     },
     "execution_count": 41,
     "metadata": {},
     "output_type": "execute_result"
    }
   ],
   "source": [
    "x"
   ]
  },
  {
   "cell_type": "markdown",
   "metadata": {},
   "source": [
    "__Repare que se formos calcular $\\phi$ chegaremos a um $\\phi = \\inf$ isso se deve pelo simples fato que que o elemento a<sub>qp</sub> = 0 e o quociente que calcula $\\phi$ tem uma divisão por 0. Este foi o critério de parada definido no algoritmo__"
   ]
  },
  {
   "cell_type": "markdown",
   "metadata": {},
   "source": [
    "__Para concluirmos que o algoritmo calculou com eficiência, temos que verificar se o determinante da matriz x é igual o determinante da matriz diagonal que foram achados os autovalores__ "
   ]
  },
  {
   "cell_type": "code",
   "execution_count": 46,
   "metadata": {},
   "outputs": [
    {
     "data": {
      "text/plain": [
       "60.00283736300002"
      ]
     },
     "execution_count": 46,
     "metadata": {},
     "output_type": "execute_result"
    }
   ],
   "source": [
    "det_diag = np.linalg.det(x)\n",
    "det_diag"
   ]
  },
  {
   "cell_type": "markdown",
   "metadata": {},
   "source": [
    "__A matriz inicial foi:__\n",
    "   $$\n",
    "x= \\left[\n",
    "\\begin{array}{ccc}\n",
    "4 & 2 & 0 \\\\\n",
    "2 & 5 & 3 \\\\\n",
    "0 & 3 & 6\\end{array}\n",
    "\\right]\n",
    "$$"
   ]
  },
  {
   "cell_type": "code",
   "execution_count": 50,
   "metadata": {},
   "outputs": [
    {
     "name": "stdout",
     "output_type": "stream",
     "text": [
      "Matriz diagonal: 60.0028 Matriz Inicial: 60.0000\n"
     ]
    }
   ],
   "source": [
    "X = np.matrix([[4,2,0],[2,5,3],[0,3,6]])\n",
    "det_init = np.linalg.det(X)\n",
    "print('Matriz diagonal: %.4f Matriz Inicial: %.4f' %(det_diag,det_init))"
   ]
  },
  {
   "cell_type": "markdown",
   "metadata": {},
   "source": [
    "__Observe que os determinantes foram aproximadamente iguais, garantindo a eficiência do algoritmo para matrizes simétricas 3x3__"
   ]
  },
  {
   "cell_type": "markdown",
   "metadata": {},
   "source": [
    "__Agora vamos ver se o algoritmo detecta que a matriz deve ser simétrica__"
   ]
  },
  {
   "cell_type": "code",
   "execution_count": 31,
   "metadata": {},
   "outputs": [
    {
     "name": "stdout",
     "output_type": "stream",
     "text": [
      "Digite a ordem da matriz: 4\n",
      "Digite o elemento [0,0]2\n",
      "[[2. 0. 0. 0.]\n",
      " [0. 0. 0. 0.]\n",
      " [0. 0. 0. 0.]\n",
      " [0. 0. 0. 0.]]\n",
      "Digite o elemento [0,1]3\n",
      "[[2. 3. 0. 0.]\n",
      " [0. 0. 0. 0.]\n",
      " [0. 0. 0. 0.]\n",
      " [0. 0. 0. 0.]]\n",
      "Digite o elemento [0,2]4\n",
      "[[2. 3. 4. 0.]\n",
      " [0. 0. 0. 0.]\n",
      " [0. 0. 0. 0.]\n",
      " [0. 0. 0. 0.]]\n",
      "Digite o elemento [0,3]5\n",
      "[[2. 3. 4. 5.]\n",
      " [0. 0. 0. 0.]\n",
      " [0. 0. 0. 0.]\n",
      " [0. 0. 0. 0.]]\n",
      "Digite o elemento [1,0]6\n",
      "[[2. 3. 4. 5.]\n",
      " [6. 0. 0. 0.]\n",
      " [0. 0. 0. 0.]\n",
      " [0. 0. 0. 0.]]\n",
      "Digite o elemento [1,1]7\n",
      "[[2. 3. 4. 5.]\n",
      " [6. 7. 0. 0.]\n",
      " [0. 0. 0. 0.]\n",
      " [0. 0. 0. 0.]]\n",
      "Digite o elemento [1,2]89\n",
      "[[ 2.  3.  4.  5.]\n",
      " [ 6.  7. 89.  0.]\n",
      " [ 0.  0.  0.  0.]\n",
      " [ 0.  0.  0.  0.]]\n",
      "Digite o elemento [1,3]10\n",
      "[[ 2.  3.  4.  5.]\n",
      " [ 6.  7. 89. 10.]\n",
      " [ 0.  0.  0.  0.]\n",
      " [ 0.  0.  0.  0.]]\n",
      "Digite o elemento [2,0]12\n",
      "[[ 2.  3.  4.  5.]\n",
      " [ 6.  7. 89. 10.]\n",
      " [12.  0.  0.  0.]\n",
      " [ 0.  0.  0.  0.]]\n",
      "Digite o elemento [2,1]133\n",
      "[[  2.   3.   4.   5.]\n",
      " [  6.   7.  89.  10.]\n",
      " [ 12. 133.   0.   0.]\n",
      " [  0.   0.   0.   0.]]\n",
      "Digite o elemento [2,2]4\n",
      "[[  2.   3.   4.   5.]\n",
      " [  6.   7.  89.  10.]\n",
      " [ 12. 133.   4.   0.]\n",
      " [  0.   0.   0.   0.]]\n",
      "Digite o elemento [2,3]56\n",
      "[[  2.   3.   4.   5.]\n",
      " [  6.   7.  89.  10.]\n",
      " [ 12. 133.   4.  56.]\n",
      " [  0.   0.   0.   0.]]\n",
      "Digite o elemento [3,0]9\n",
      "[[  2.   3.   4.   5.]\n",
      " [  6.   7.  89.  10.]\n",
      " [ 12. 133.   4.  56.]\n",
      " [  9.   0.   0.   0.]]\n",
      "Digite o elemento [3,1]8\n",
      "[[  2.   3.   4.   5.]\n",
      " [  6.   7.  89.  10.]\n",
      " [ 12. 133.   4.  56.]\n",
      " [  9.   8.   0.   0.]]\n",
      "Digite o elemento [3,2]10\n",
      "[[  2.   3.   4.   5.]\n",
      " [  6.   7.  89.  10.]\n",
      " [ 12. 133.   4.  56.]\n",
      " [  9.   8.  10.   0.]]\n",
      "Digite o elemento [3,3]11\n",
      "[[  2.   3.   4.   5.]\n",
      " [  6.   7.  89.  10.]\n",
      " [ 12. 133.   4.  56.]\n",
      " [  9.   8.  10.  11.]]\n",
      "A matrize deve ser simétrica!\n"
     ]
    }
   ],
   "source": [
    "def matriz_rotacao(n,p,q):\n",
    "    u = np.eye(n)\n",
    "    for i in range(len(u)):\n",
    "        for j in range(len(u)):\n",
    "            if i==p and j==q:\n",
    "                u[p,q] = s    \n",
    "                u[q,p] = -1*s\n",
    "            elif i==j==p or i==j==q:\n",
    "                u[p,p] = c\n",
    "                u[q,q] = c\n",
    "                \n",
    "                \n",
    "    return u  \n",
    "def gerador_matriz(n):\n",
    "    A= np.eye(n)\n",
    "    A = np.matrix(A)\n",
    "    for i in range(len(A)):\n",
    "        for j in range(len(A)):\n",
    "            if(i==j):\n",
    "                A[i,j] = 0\n",
    "    for i in range(len(A)):\n",
    "        for j in range(len(A)):\n",
    "            A[i,j] = input('Digite o elemento [%d,%d]' %(i,j))\n",
    "            print(A)\n",
    "    return A\n",
    "\n",
    "n = int(input('Digite a ordem da matriz: '))\n",
    "x = gerador_matriz(n)\n",
    "autovalores = []\n",
    "simetricax = []\n",
    "simetricaxtransp = []\n",
    "\n",
    "for i in range(len(x)):\n",
    "    for j in range(len(x)):\n",
    "        simetricax.append(x[i,j])\n",
    "        simetricaxtransp.append(x.transpose()[i,j])\n",
    "        \n",
    "if(simetricax == simetricaxtransp):\n",
    "    for i in range(0,1000000):\n",
    "\n",
    "\n",
    "            lista = []\n",
    "\n",
    "            for i in range(len(x)):\n",
    "                for j in range(len(x)):\n",
    "                    if(i!=j):\n",
    "                        lista.append(x[i,j])\n",
    "            \n",
    "            for i in range(len(lista)):\n",
    "                if(lista[i]<0):\n",
    "                    lista[i] = -1*lista[i]\n",
    "                else:\n",
    "                    lista[i] = lista[i]\n",
    "                \n",
    "            \n",
    "            maxi = max(lista)\n",
    "            \n",
    "            for i in range(len(x)):\n",
    "                for j in range(len(x)):\n",
    "                    if x[i,j] == maxi:\n",
    "                        p = i\n",
    "                        q = j\n",
    "\n",
    "                        if p> q:\n",
    "                            var = q\n",
    "                            q = p\n",
    "                            p = var\n",
    "            \n",
    "            \n",
    "\n",
    "            l = 2*x[p,q]\n",
    "            if(l!=0): #Critério de parada\n",
    "                phi = (x[q,q] - x[p,p])/l\n",
    "\n",
    "\n",
    "                if phi != 0:\n",
    "                    if abs(phi+sqrt(phi**2+1))>abs(phi-sqrt(phi**2+1)):\n",
    "                        den = phi+sqrt(phi**2+1)\n",
    "                    else:\n",
    "                        den = phi-sqrt(phi**2+1)\n",
    "                    t = 1/den\n",
    "                else:\n",
    "                    t = 1\n",
    "\n",
    "                c = 1/(sqrt(1+t**2))\n",
    "\n",
    "                s = t/(sqrt(1+t**2))\n",
    "\n",
    "                U = matriz_rotacao(n,p,q)\n",
    "\n",
    "\n",
    "\n",
    "                x = U.transpose()*x*U\n",
    "\n",
    "                for i in range(len(x)):\n",
    "                    for j in range(len(x)):\n",
    "                        x[i,j] = round(x[i,j],3)\n",
    "\n",
    "\n",
    "            else:\n",
    "                break\n",
    "    i=0\n",
    "    for j in range(len(x)):\n",
    "        autovalores.append(x.diagonal()[i,j])\n",
    "        print('Autovalor[%d] = %.4f' %(j,autovalores[j]))\n",
    "else:\n",
    "    print('A matrize deve ser simétrica!')\n",
    "        \n",
    "\n",
    " \n",
    "\n",
    "\n"
   ]
  },
  {
   "cell_type": "markdown",
   "metadata": {},
   "source": [
    "__Veja que ele acusa que a matriz deve ser simétrica__"
   ]
  },
  {
   "cell_type": "markdown",
   "metadata": {},
   "source": [
    "__Agora vamos ver um exemplo para matriz simétrica de ordem 4, definida abaixo:__\n",
    "\\\n",
    "   $$\n",
    "x= \\left[\n",
    "\\begin{array}{ccc}\n",
    "2 & 1 & 3 & 1 \\\\\n",
    "1 & 0 &-1 & 0 \\\\\n",
    "3 & -1 & 3 & 0\\\\\n",
    "1 & 0 & 0 & 1\\\\\n",
    "\\end{array}\n",
    "\\right]\n",
    "$$\n"
   ]
  },
  {
   "cell_type": "code",
   "execution_count": 74,
   "metadata": {},
   "outputs": [
    {
     "name": "stdout",
     "output_type": "stream",
     "text": [
      "Digite a ordem da matriz: 4\n",
      "Digite o elemento [0,0]2\n",
      "[[2. 0. 0. 0.]\n",
      " [0. 0. 0. 0.]\n",
      " [0. 0. 0. 0.]\n",
      " [0. 0. 0. 0.]]\n",
      "Digite o elemento [0,1]1\n",
      "[[2. 1. 0. 0.]\n",
      " [0. 0. 0. 0.]\n",
      " [0. 0. 0. 0.]\n",
      " [0. 0. 0. 0.]]\n",
      "Digite o elemento [0,2]3\n",
      "[[2. 1. 3. 0.]\n",
      " [0. 0. 0. 0.]\n",
      " [0. 0. 0. 0.]\n",
      " [0. 0. 0. 0.]]\n",
      "Digite o elemento [0,3]1\n",
      "[[2. 1. 3. 1.]\n",
      " [0. 0. 0. 0.]\n",
      " [0. 0. 0. 0.]\n",
      " [0. 0. 0. 0.]]\n",
      "Digite o elemento [1,0]1\n",
      "[[2. 1. 3. 1.]\n",
      " [1. 0. 0. 0.]\n",
      " [0. 0. 0. 0.]\n",
      " [0. 0. 0. 0.]]\n",
      "Digite o elemento [1,1]0\n",
      "[[2. 1. 3. 1.]\n",
      " [1. 0. 0. 0.]\n",
      " [0. 0. 0. 0.]\n",
      " [0. 0. 0. 0.]]\n",
      "Digite o elemento [1,2]-1\n",
      "[[ 2.  1.  3.  1.]\n",
      " [ 1.  0. -1.  0.]\n",
      " [ 0.  0.  0.  0.]\n",
      " [ 0.  0.  0.  0.]]\n",
      "Digite o elemento [1,3]0\n",
      "[[ 2.  1.  3.  1.]\n",
      " [ 1.  0. -1.  0.]\n",
      " [ 0.  0.  0.  0.]\n",
      " [ 0.  0.  0.  0.]]\n",
      "Digite o elemento [2,0]3\n",
      "[[ 2.  1.  3.  1.]\n",
      " [ 1.  0. -1.  0.]\n",
      " [ 3.  0.  0.  0.]\n",
      " [ 0.  0.  0.  0.]]\n",
      "Digite o elemento [2,1]-1\n",
      "[[ 2.  1.  3.  1.]\n",
      " [ 1.  0. -1.  0.]\n",
      " [ 3. -1.  0.  0.]\n",
      " [ 0.  0.  0.  0.]]\n",
      "Digite o elemento [2,2]3\n",
      "[[ 2.  1.  3.  1.]\n",
      " [ 1.  0. -1.  0.]\n",
      " [ 3. -1.  3.  0.]\n",
      " [ 0.  0.  0.  0.]]\n",
      "Digite o elemento [2,3]0\n",
      "[[ 2.  1.  3.  1.]\n",
      " [ 1.  0. -1.  0.]\n",
      " [ 3. -1.  3.  0.]\n",
      " [ 0.  0.  0.  0.]]\n",
      "Digite o elemento [3,0]1\n",
      "[[ 2.  1.  3.  1.]\n",
      " [ 1.  0. -1.  0.]\n",
      " [ 3. -1.  3.  0.]\n",
      " [ 1.  0.  0.  0.]]\n",
      "Digite o elemento [3,1]0\n",
      "[[ 2.  1.  3.  1.]\n",
      " [ 1.  0. -1.  0.]\n",
      " [ 3. -1.  3.  0.]\n",
      " [ 1.  0.  0.  0.]]\n",
      "Digite o elemento [3,2]0\n",
      "[[ 2.  1.  3.  1.]\n",
      " [ 1.  0. -1.  0.]\n",
      " [ 3. -1.  3.  0.]\n",
      " [ 1.  0.  0.  0.]]\n",
      "Digite o elemento [3,3]1\n",
      "[[ 2.  1.  3.  1.]\n",
      " [ 1.  0. -1.  0.]\n",
      " [ 3. -1.  3.  0.]\n",
      " [ 1.  0.  0.  1.]]\n",
      "Autovalor[0] = 3.0000\n",
      "Autovalor[1] = 0.0000\n",
      "Autovalor[2] = -0.2500\n",
      "Autovalor[3] = 1.0000\n"
     ]
    }
   ],
   "source": [
    "def matriz_rotacao(n,p,q):\n",
    "    u = np.eye(n)\n",
    "    for i in range(len(u)):\n",
    "        for j in range(len(u)):\n",
    "            if i==p and j==q:\n",
    "                u[p,q] = s    \n",
    "                u[q,p] = -1*s\n",
    "            elif i==j==p or i==j==q:\n",
    "                u[p,p] = c\n",
    "                u[q,q] = c\n",
    "                \n",
    "                \n",
    "    return u  \n",
    "def gerador_matriz(n):\n",
    "    A= np.eye(n)\n",
    "    A = np.matrix(A)\n",
    "    for i in range(len(A)):\n",
    "        for j in range(len(A)):\n",
    "            if(i==j):\n",
    "                A[i,j] = 0\n",
    "    for i in range(len(A)):\n",
    "        for j in range(len(A)):\n",
    "            A[i,j] = input('Digite o elemento [%d,%d]' %(i,j))\n",
    "            print(A)\n",
    "    return A\n",
    "\n",
    "n = int(input('Digite a ordem da matriz: '))\n",
    "x = gerador_matriz(n)\n",
    "autovalores = []\n",
    "simetricax = []\n",
    "simetricaxtransp = []\n",
    "\n",
    "for i in range(len(x)):\n",
    "    for j in range(len(x)):\n",
    "        simetricax.append(x[i,j])\n",
    "        simetricaxtransp.append(x.transpose()[i,j])\n",
    "        \n",
    "if(simetricax == simetricaxtransp):\n",
    "    for i in range(0,1000000):\n",
    "\n",
    "\n",
    "            lista = []\n",
    "\n",
    "            for i in range(len(x)):\n",
    "                for j in range(len(x)):\n",
    "                    if(i!=j):\n",
    "                        lista.append(x[i,j])\n",
    "            \n",
    "            for i in range(len(lista)):\n",
    "                if(lista[i]<0):\n",
    "                    lista[i] = -1*lista[i]\n",
    "                else:\n",
    "                    lista[i] = lista[i]\n",
    "                \n",
    "            \n",
    "            maxi = max(lista)\n",
    "            \n",
    "            for i in range(len(x)):\n",
    "                for j in range(len(x)):\n",
    "                    if x[i,j] == maxi:\n",
    "                        p = i\n",
    "                        q = j\n",
    "\n",
    "                        if p> q:\n",
    "                            var = q\n",
    "                            q = p\n",
    "                            p = var\n",
    "            \n",
    "            \n",
    "\n",
    "            l = 2*x[p,q]\n",
    "            if(l!=0): #Critério de parada\n",
    "                phi = (x[q,q] - x[p,p])/l\n",
    "\n",
    "\n",
    "                if phi != 0:\n",
    "                    if abs(phi+sqrt(phi**2+1))>abs(phi-sqrt(phi**2+1)):\n",
    "                        den = phi+sqrt(phi**2+1)\n",
    "                    else:\n",
    "                        den = phi-sqrt(phi**2+1)\n",
    "                    t = 1/den\n",
    "                else:\n",
    "                    t = 1\n",
    "\n",
    "                c = 1/(sqrt(1+t**2))\n",
    "\n",
    "                s = t/(sqrt(1+t**2))\n",
    "\n",
    "                U = matriz_rotacao(n,p,q)\n",
    "\n",
    "\n",
    "\n",
    "                x = U.transpose()*x*U\n",
    "\n",
    "                for i in range(len(x)):\n",
    "                    for j in range(len(x)):\n",
    "                        x[i,j] = round(x[i,j],3)\n",
    "\n",
    "\n",
    "            else:\n",
    "                break\n",
    "    i=0\n",
    "    for j in range(len(x)):\n",
    "        autovalores.append(x.diagonal()[i,j])\n",
    "        print('Autovalor[%d] = %.4f' %(j,autovalores[j]))\n",
    "else:\n",
    "    print('A matrize deve ser simétrica!')\n",
    "        \n",
    "\n",
    " \n",
    "\n",
    "\n"
   ]
  },
  {
   "cell_type": "markdown",
   "metadata": {},
   "source": [
    "__Veja que os autovalores são__ $\\lambda_0 = 3.0000$, $\\lambda_1 = 0.0000$, $\\lambda_2 = -0.2500$,$\\lambda_3 = 1.000$"
   ]
  },
  {
   "cell_type": "code",
   "execution_count": 68,
   "metadata": {},
   "outputs": [],
   "source": [
    "A = np.matrix([[2,1,3,1],[1,0,-1,0],[3,1,3,0],[1,0,0,1]])"
   ]
  },
  {
   "cell_type": "code",
   "execution_count": 79,
   "metadata": {},
   "outputs": [],
   "source": [
    "detx = np.linalg.det(x)\n",
    "detA = np.linalg.det(A)"
   ]
  },
  {
   "cell_type": "code",
   "execution_count": 80,
   "metadata": {},
   "outputs": [
    {
     "name": "stdout",
     "output_type": "stream",
     "text": [
      "Matriz diagonal: -2.5017 Matriz inicial: -2.0000\n"
     ]
    }
   ],
   "source": [
    "print('Matriz diagonal: %.4f Matriz inicial: %.4f' %(detx,detA))"
   ]
  },
  {
   "cell_type": "markdown",
   "metadata": {},
   "source": [
    "<p><i>Veja que os valores são aproximadamente próximos, todavia o erro é maior que para uma matriz 3x3</i></p>"
   ]
  },
  {
   "cell_type": "markdown",
   "metadata": {},
   "source": [
    "<p><b>MÉTODO SIMPLEX</b></p>"
   ]
  },
  {
   "cell_type": "markdown",
   "metadata": {},
   "source": [
    "<p><i><div align=\"justify\">O algoritmo SIMPLEX dispõe-se de um método iterativo para ser realizado, possuímos uma função chamada função objetivo e algumas restrinções. O SIMPLEX se baseia na álgebra linear para determinar por meio de várias iterações, uma solução ótima de um Problema de programação linear. O algoritmo parte de uma solução inicial, a partir dessa solução vai identificando novas soluções viáveis de valor igual ou melhor. Dois critérios são definidos, um de escolha que permite encontrar sempre novos e melhores vértices da envoltória convexa do problema e um outro método que vai determinar se o vértice é ótimo ou não. A figura geométrica que representa o espaço de soluções é um politopo e neste politopo temos uma região factível. O procedimento se dá da seguinte forma:</div> </i></p>\n",
    "<i>\n",
    "<ol>\n",
    "    <li>Inversão de uma matriz base $mxm $ deduzida a partir de uma matriz A($mxn$).</li>\n",
    "     <li>Troca de colunas da matriz base com objetivo de melhorar a solução básica por meio das iterações.</li>\n",
    "    <li>E por fim a Regra de parada.</li>\n",
    "\n",
    "</ol>\n",
    "</i>\n",
    " \n"
   ]
  },
  {
   "cell_type": "markdown",
   "metadata": {},
   "source": [
    "<p><i>Para explicarmos melhor o método precisamos ter a noção que é possível decompor o vetor das varíaves $x$ em $x = (x_B,x_R)$ onde:</i></p>\n",
    "<ol>\n",
    "    <li> $x_B$ é o vetor das variáveis básicas de m componentes.</li>\n",
    "    <li> $x_R$ é o vetor das varíaveis não básicas de $n-m$ componentes.</li>\n",
    " </ol>\n",
    " \n",
    " <p> Os elementos de indíce $I$ e $J$ são para diferenciar as variáveis básicas e não básicas, respectivamente.</p>\n",
    " \n",
    " <p>Quando $B$ é uma matriz base associada à matriz $A$. O vetor composto $x_b = B^-1b e x_r = 0 $ é chamada solução básica ou ponto extremo do conjunto do sistema $Ax = b$.\n",
    "        <p><i>Quando a solução não apresenta componentes negativas é chamada de solução básica viável.</i></p>.\n",
    "     <p> Além da solução básica, é possível também melhorar a variável básica. Por meio de algumas operações podemos reescrever $x_b, b^-1b e y_k$ da seguinte forma:\n",
    "    $x_B = b^-1b - y_kx_k$ onde $y_k = B^-1a_k$\n",
    "     "
   ]
  },
  {
   "cell_type": "markdown",
   "metadata": {},
   "source": [
    "<p><b>MÉTODO SIMPLEX DE DUAS FASES </b></p>"
   ]
  },
  {
   "cell_type": "markdown",
   "metadata": {},
   "source": [
    " <p><i>É um procedimento para zerar as variáveis de folga. A fase 1 visa obtenção de uma solução básica viável para o PPL. Na fase 2 com a solução básica factível, aplica-se o SIMPLEX no problema original.</i></p>"
   ]
  },
  {
   "cell_type": "markdown",
   "metadata": {},
   "source": [
    "<b>FASE 1</b>\n",
    "\n",
    "<p>Considere o problema genérico abaixo:</p>\n",
    "$$\\phi = 1 \\\\\n",
    "Ax + x_a = b \\\\\n",
    "x, x_a \\ge 0 \n",
    "$$"
   ]
  },
  {
   "cell_type": "markdown",
   "metadata": {},
   "source": [
    "<p>Resolvendo o problema genérico acima pelo SIMPLEX. Se o valor ótimo deste problema for $\\phi = 0 $ então a solução ótima correspondente é uma solução básica factível inicial do problema original.</p>\n",
    "    <p>Se o valor ótimo de $\\phi$ é positivo o problema original não tem solução factível. A solução do problema acima pode ter $x_a = 0 $, mas pode ser que alguma variável artificial esteja na base com valor zero."
   ]
  },
  {
   "cell_type": "markdown",
   "metadata": {},
   "source": [
    "<b>DEGENERAÇÃO E CICLAGEM</b>\n"
   ]
  },
  {
   "cell_type": "markdown",
   "metadata": {},
   "source": [
    "<p>O algoritmo converge das várias reduções que acontece, devido ao critério de escolha de troca de uma variável, isso melhora o valor da função objetivo. O algoritmo pode chegar em situações que pode ter um comportamento que não siga os critérios anteriores. Isso pode acontecer quando $z_j - c_j$ associadas a algumas variáveis possuem valores iguais e o mesmo acontece ao valor mínimo.</p>"
   ]
  }
 ],
 "metadata": {
  "kernelspec": {
   "display_name": "Python 3",
   "language": "python",
   "name": "python3"
  },
  "language_info": {
   "codemirror_mode": {
    "name": "ipython",
    "version": 3
   },
   "file_extension": ".py",
   "mimetype": "text/x-python",
   "name": "python",
   "nbconvert_exporter": "python",
   "pygments_lexer": "ipython3",
   "version": "3.7.6"
  }
 },
 "nbformat": 4,
 "nbformat_minor": 4
}
