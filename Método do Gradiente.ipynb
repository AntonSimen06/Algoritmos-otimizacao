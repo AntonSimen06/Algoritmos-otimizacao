{
 "cells": [
  {
   "cell_type": "markdown",
   "metadata": {},
   "source": [
    "<h4>Método do Gradiente - TÓPICOS DE OTIMIZAÇÃO 31/10/2020 - MAURO NOOBLATH</h4>\n",
    "\n",
    "\n",
    "    "
   ]
  },
  {
   "cell_type": "markdown",
   "metadata": {},
   "source": [
    "<p><div align = 'justify'>Começaremos criando três funções em Python. A primeira função <i>matriz_Q</i> para gerar uma matriz quadrada Q que é responsável pelos coeficientes das varíaveis que gostaríamos de encontrar a solução. A segunda função <i>matriz_b</i> para gerar uma matriz coluna com o mesmo número de linhas da matriz gerada na primeira função. A terceira função <i>matriz_x</i> para ser o chute inicial dos valores das variáveis e o programa começará a iteração para chegarmos no valor das variáveis tal qual satisfazem o sistema e o critério de parada."
   ]
  },
  {
   "cell_type": "code",
   "execution_count": 2,
   "metadata": {},
   "outputs": [],
   "source": [
    "from math import*\n",
    "import numpy as np\n",
    "import matplotlib.pyplot as p\n",
    "%matplotlib inline\n",
    "\n",
    "\n",
    "def matriz_Q():\n",
    "    n = int(input(\"Entre com a ordem da matriz Q: \"))\n",
    "    Q = np.identity(n) #array \n",
    "    for i in range(n):\n",
    "        for j in range(n):\n",
    "            Q[i,j] = float(input(\"Digite o elemento [%d,%d] = \" %(i,j)))\n",
    "    Q = np.matrix(Q)\n",
    "    \n",
    "    return Q\n",
    "\n",
    "def matriz_b( ):\n",
    "    n = int(input(\"Entre com a ordem da matriz b: \"))\n",
    "    b = np.zeros(n)\n",
    "    for i in range(n):\n",
    "        b[i] = float(input(\"Digite o elemento [%d, %d] = \" %(i,0)) )\n",
    "    b = np.matrix(b)\n",
    "    b = b.transpose()\n",
    "    return b \n",
    "\n",
    "def matriz_x():\n",
    "    n = int(input(\"Entre com a ordem da matriz x: \"))\n",
    "    x = np.zeros(n)\n",
    "    for i in range(n):\n",
    "        x[i] = float(input(\"Digite o elemento [%d, %d] = \" %(i,0)) )\n",
    "    x = np.matrix(x)\n",
    "    x = x.transpose()\n",
    "    return x\n",
    "\n",
    "\n",
    "        "
   ]
  },
  {
   "cell_type": "markdown",
   "metadata": {},
   "source": [
    "<p><div align = \"Justify\"> Em seguida o programa começa a iteração, uma vez que o usuário fornece o erro tal qual ele quer que o programa pare pois se $||g^k||\\ge erro$ o programa finaliza. O usuário também fornece a matriz com os coeficientes do sistema que este quer resolver, como também a matriz inicial x com os valores que podem ser aleatórios. Pois na iteração a tendência é os valores da matriz x sempre convergir para a solução do sistema. </div></p> "
   ]
  },
  {
   "cell_type": "code",
   "execution_count": 7,
   "metadata": {},
   "outputs": [
    {
     "data": {
      "text/plain": [
       "0.778016"
      ]
     },
     "execution_count": 7,
     "metadata": {},
     "output_type": "execute_result"
    }
   ],
   "source": [
    "alpha = 0.0\n",
    "phi = 1600*(alpha**4) + 4*(alpha**2)-4*alpha+1\n",
    "\n",
    "phi"
   ]
  },
  {
   "cell_type": "code",
   "execution_count": 5,
   "metadata": {},
   "outputs": [
    {
     "name": "stdout",
     "output_type": "stream",
     "text": [
      "Entre com o erro: 0.10\n",
      "O erro que vc digitou é 0.10\n",
      "Entre com a ordem da matriz Q: 2\n",
      "Digite o elemento [0,0] = 2\n",
      "Digite o elemento [0,1] = 0\n",
      "Digite o elemento [1,0] = 0\n",
      "Digite o elemento [1,1] = 2\n",
      "Entre com a ordem da matriz b: 2\n",
      "Digite o elemento [0, 0] = -1\n",
      "Digite o elemento [1, 0] = 0\n",
      "Entre com a ordem da matriz x: 2\n",
      "Digite o elemento [0, 0] = 0\n",
      "Digite o elemento [1, 0] = 0\n",
      "[[-0.5]\n",
      " [ 0. ]]\n"
     ]
    }
   ],
   "source": [
    "e = float(input(\"Entre com o erro: \" ))\n",
    "print(\"O erro que vc digitou é %.2f\" %(e))\n",
    "lista = []        \n",
    "Q = matriz_Q()\n",
    "b = matriz_b()\n",
    "x = matriz_x()\n",
    "if (Q.shape[0] == b.shape[0] == x.shape[0] and Q.transpose().tolist() == Q.tolist()):\n",
    "    for i in range(100000):\n",
    "        \n",
    "        g = -b + Q*x\n",
    "        if (np.linalg.norm(g)>=e):\n",
    "            alpha = (g.transpose()*g)/(g.transpose()*Q*g)\n",
    "            lista.append(alpha)\n",
    "            x = x - alpha[0,0]*g\n",
    "        else:\n",
    "            break\n",
    "        \n",
    "            \n",
    "            \n",
    "            \n",
    "    \n",
    "    print(x)\n",
    "    \n",
    "else:\n",
    "    print(\"A ordem das matrizes não correspondem ou Q não é simétrica!\")\n",
    "        \n",
    "        \n",
    "\n",
    "\n",
    "\n",
    "\n",
    "\n",
    "            \n",
    "            \n",
    "            \n",
    "            "
   ]
  },
  {
   "cell_type": "markdown",
   "metadata": {},
   "source": [
    "<p><div align = \"Justify\">Veja que o valor convergiu para aproximadamente 1.00. Testaremos outras matrizes de solução de  entrada x</div></p>"
   ]
  },
  {
   "cell_type": "code",
   "execution_count": 5,
   "metadata": {},
   "outputs": [
    {
     "name": "stdout",
     "output_type": "stream",
     "text": [
      "Entre com o erro: 0.10\n",
      "O erro que vc digitou é 0.10\n",
      "Entre com a ordem da matriz Q: 2\n",
      "Digite o elemento [0,0] = 4\n",
      "Digite o elemento [0,1] = 1\n",
      "Digite o elemento [1,0] = 1\n",
      "Digite o elemento [1,1] = 3\n",
      "Entre com a ordem da matriz b: 2\n",
      "Digite o elemento [0, 0] = 5\n",
      "Digite o elemento [1, 0] = 4\n",
      "Entre com a ordem da matriz x: 2\n",
      "Digite o elemento [0, 0] = 100000\n",
      "Digite o elemento [1, 0] = 1000\n",
      "[[1.01455028]\n",
      " [0.9650175 ]]\n"
     ]
    }
   ],
   "source": [
    "e = float(input(\"Entre com o erro: \" ))\n",
    "print(\"O erro que vc digitou é %.2f\" %(e))\n",
    "listag = []\n",
    "listax = []\n",
    "Q = matriz_Q()\n",
    "b = matriz_b()\n",
    "x = matriz_x()\n",
    "if (Q.shape[0] == b.shape[0] == x.shape[0] and Q.transpose().tolist() == Q.tolist()):\n",
    "    for i in range(100000):\n",
    "        \n",
    "        g = -b + Q*x\n",
    "        if (np.linalg.norm(g)>=e):\n",
    "            alpha = (g.transpose()*g)/(g.transpose()*Q*g)\n",
    "            lista.append(alpha)\n",
    "            x = x - alpha[0,0]*g\n",
    "            listag.append(g)\n",
    "            listax.append(x)\n",
    "        else:\n",
    "            break\n",
    "        \n",
    "            \n",
    "            \n",
    "            \n",
    "    \n",
    "    print(x)\n",
    "    \n",
    "else:\n",
    "    print(\"A ordem das matrizes não correspondem ou Q não é simétrica!\")\n",
    "        "
   ]
  },
  {
   "cell_type": "markdown",
   "metadata": {},
   "source": [
    "<p><div align = \"justify\"><i> Observe que a solução convergiu para aproximadamente 1 também.</i></div></p>"
   ]
  }
 ],
 "metadata": {
  "kernelspec": {
   "display_name": "Python 3",
   "language": "python",
   "name": "python3"
  },
  "language_info": {
   "codemirror_mode": {
    "name": "ipython",
    "version": 3
   },
   "file_extension": ".py",
   "mimetype": "text/x-python",
   "name": "python",
   "nbconvert_exporter": "python",
   "pygments_lexer": "ipython3",
   "version": "3.7.6"
  }
 },
 "nbformat": 4,
 "nbformat_minor": 4
}
